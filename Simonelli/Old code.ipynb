{
 "cells": [
  {
   "cell_type": "code",
   "execution_count": null,
   "id": "6808ab38",
   "metadata": {},
   "outputs": [],
   "source": [
    "def CIs(name,df):\n",
    "\n",
    "    median = df[\"Negotiation_length_days\"].median()\n",
    "    median = round(median)\n",
    "\n",
    "    mean = df[\"Negotiation_length_days\"].mean()\n",
    "    mean = round(mean)\n",
    "    \n",
    "    std = df[\"Negotiation_length_days\"].std()\n",
    "    std = round(std)\n",
    "    \n",
    "    TenthPercentile = df[\"Negotiation_length_days\"].quantile(q=0.1)\n",
    "    TenthPercentile = round(TenthPercentile)\n",
    "    \n",
    "    count = df.shape[0]\n",
    "\n",
    "    return(name, median, mean, std, TenthPercentile, count)\n",
    "\n",
    "col_list = ['Name','Median', 'Mean', \"Standard Deviation\", \"Tenth Percentile\",\"Count\"]"
   ]
  }
 ],
 "metadata": {
  "kernelspec": {
   "display_name": "Python 3 (ipykernel)",
   "language": "python",
   "name": "python3"
  },
  "language_info": {
   "codemirror_mode": {
    "name": "ipython",
    "version": 3
   },
   "file_extension": ".py",
   "mimetype": "text/x-python",
   "name": "python",
   "nbconvert_exporter": "python",
   "pygments_lexer": "ipython3",
   "version": "3.9.13"
  }
 },
 "nbformat": 4,
 "nbformat_minor": 5
}
